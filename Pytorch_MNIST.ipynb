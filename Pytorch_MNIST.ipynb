{
 "cells": [
  {
   "cell_type": "code",
   "execution_count": 4,
   "metadata": {},
   "outputs": [],
   "source": [
    "import torch\n",
    "import torch.nn as nn\n",
    "import torch.optim as optim\n",
    "from torch.autograd import Variable\n",
    "import torchvision\n",
    "import torchvision.transforms as transforms\n",
    "import torchvision.datasets as datasets\n",
    "\n",
    "import numpy as np\n",
    "import pandas as pd\n",
    "import matplotlib.pyplot as plt\n",
    "import seaborn as sb"
   ]
  },
  {
   "cell_type": "markdown",
   "metadata": {},
   "source": [
    "# Load The MNIST Dataset\n",
    "We use torchvision to load the MNIST training dataset. We wrap the dataset into a variable named **train_loader**. For this we also specify a batch size variable named **train_batch_size** that will play a role when use stochastic gradient descent later on.  \n",
    "Subquently, we load the MNIST test dataset and store all its samples in a variable **test_loader**. In order to sample all test samples, we set the batch size to 10000."
   ]
  },
  {
   "cell_type": "code",
   "execution_count": 28,
   "metadata": {},
   "outputs": [
    {
     "name": "stdout",
     "output_type": "stream",
     "text": [
      "Training set size :  torch.Size([60000, 28, 28])\n",
      "Testing set size :  torch.Size([10000, 28, 28])\n"
     ]
    }
   ],
   "source": [
    "# Download and unzip the MNIST dataset with:\n",
    "# !wget www.di.ens.fr/~lelarge/MNIST.tar.gz\n",
    "# !tar -zxvf MNIST.tar.gz\n",
    "\n",
    "# ToTensor : Converts a PIL Image or numpy.ndarray (H x W x C) in the range [0, 255]\n",
    "#            to a torch.FloatTensor of shape (C x H x W) in the range [0.0, 1.0]\n",
    "# Compose : compose several transforms together\n",
    "trainset = datasets.MNIST('./', train=True, download=True, transform=transforms.Compose([transforms.ToTensor()]))\n",
    "testset = datasets.MNIST('./', train=False, download=True, transform=transforms.Compose([transforms.ToTensor()]))\n",
    "\n",
    "print('Training set size : ', trainset.data.size())\n",
    "print('Testing set size : ', testset.data.size())"
   ]
  },
  {
   "cell_type": "code",
   "execution_count": 14,
   "metadata": {},
   "outputs": [],
   "source": [
    "train_batch_size = 100\n",
    "train_loader = torch.utils.data.DataLoader(trainset, batch_size=train_batch_size)\n",
    "test_batch_size = 10000\n",
    "test_loader = torch.utils.data.DataLoader(testset, batch_size=test_batch_size)"
   ]
  },
  {
   "cell_type": "markdown",
   "metadata": {},
   "source": [
    "And we example some data from trainset."
   ]
  },
  {
   "cell_type": "code",
   "execution_count": 44,
   "metadata": {},
   "outputs": [
    {
     "data": {
      "image/png": "[encoded data removed]",
      "text/plain": [
       "<Figure size 432x288 with 6 Axes>"
      ]
     },
     "metadata": {
      "needs_background": "light"
     },
     "output_type": "display_data"
    }
   ],
   "source": [
    "fig = plt.figure()\n",
    "for i in range(6):\n",
    "    plt.subplot(2, 3, i+1)\n",
    "    plt.tight_layout() # Adjust the padding between and around subplots.\n",
    "    plt.imshow(trainset.data[i])\n",
    "    plt.title('Label : %i' % trainset.targets[i], fontsize=16)\n",
    "plt.show()"
   ]
  },
  {
   "cell_type": "markdown",
   "metadata": {},
   "source": [
    "# Feed-forward Neural Network\n",
    "Now we define a feed-forward neural network by writing a class **FeedForward_NN** that is a subclass of **torch.nn.Module**. The constructor takes a variable **dims** as its arguments, which is an array of dimension for the parameters of the network's affine-linear transformation. The length of the array implicitly defines the number of layers of the neural network. The activation functions are set to br $\\phi_l(x) = \\text{tanh}(x)$ for all layers $l$."
   ]
  },
  {
   "cell_type": "code",
   "execution_count": 73,
   "metadata": {},
   "outputs": [],
   "source": [
    "class FeedForward_NN(nn.Module):\n",
    "    def __init__(self, dims):\n",
    "        super(FeedForward_NN, self).__init__()\n",
    "        # ModuleList : Holds submodules in a list.\n",
    "        self.affine_transformation = nn.ModuleList([nn.Linear(dims[k], dims[k + 1]) for k in range(len(dims) - 1)])\n",
    "        self.activation = nn.Tanh()\n",
    "    \n",
    "    def forward(self, x):\n",
    "        for i in range(len(self.affine_transformation)):\n",
    "            x = self.activation(self.affine_transformation[i](x))\n",
    "        return x"
   ]
  },
  {
   "cell_type": "markdown",
   "metadata": {},
   "source": [
    "Futrhermore, we define a function **acc** that computes the classification accuracy of the outputsof a network for given labels."
   ]
  },
  {
   "cell_type": "code",
   "execution_count": 93,
   "metadata": {},
   "outputs": [],
   "source": [
    "def acc(outputs, labels):\n",
    "    pred = outputs.max(1, keepdim=True)[1].squeeze() # 1: max in each row [1]:take indices\n",
    "    pred_comparison = torch.eq(pred, labels)\n",
    "    return 100 * (pred_comparison.sum().numpy() / torch.numel(pred_comparison))"
   ]
  },
  {
   "cell_type": "markdown",
   "metadata": {},
   "source": [
    "Next, we initialise an instance **NN** of the class **FeedForward_NN** foe the parameters specified below."
   ]
  },
  {
   "cell_type": "code",
   "execution_count": 97,
   "metadata": {},
   "outputs": [],
   "source": [
    "dimensions = [784, 1024, 512, 256, 196, 64, 10] # 784 = 28 * 28\n",
    "NN = FeedForward_NN(dimensions)"
   ]
  },
  {
   "cell_type": "markdown",
   "metadata": {},
   "source": [
    "Subsequently, we train the network parameters via SGD (with heavy-ball momentum). We use the cross entropy loss function. In Pytorch, we specify the criterion via the call **nn.CrossEntropyLoss()**. We store a couple of additional parameters and run several epochs."
   ]
  },
  {
   "cell_type": "code",
   "execution_count": 91,
   "metadata": {
    "scrolled": true
   },
   "outputs": [
    {
     "name": "stdout",
     "output_type": "stream",
     "text": [
      "Data in train_loader consists of image data and labels : \n",
      " [tensor([[[[0., 0., 0.,  ..., 0., 0., 0.],\n",
      "          [0., 0., 0.,  ..., 0., 0., 0.],\n",
      "          [0., 0., 0.,  ..., 0., 0., 0.],\n",
      "          ...,\n",
      "          [0., 0., 0.,  ..., 0., 0., 0.],\n",
      "          [0., 0., 0.,  ..., 0., 0., 0.],\n",
      "          [0., 0., 0.,  ..., 0., 0., 0.]]],\n",
      "\n",
      "\n",
      "        [[[0., 0., 0.,  ..., 0., 0., 0.],\n",
      "          [0., 0., 0.,  ..., 0., 0., 0.],\n",
      "          [0., 0., 0.,  ..., 0., 0., 0.],\n",
      "          ...,\n",
      "          [0., 0., 0.,  ..., 0., 0., 0.],\n",
      "          [0., 0., 0.,  ..., 0., 0., 0.],\n",
      "          [0., 0., 0.,  ..., 0., 0., 0.]]],\n",
      "\n",
      "\n",
      "        [[[0., 0., 0.,  ..., 0., 0., 0.],\n",
      "          [0., 0., 0.,  ..., 0., 0., 0.],\n",
      "          [0., 0., 0.,  ..., 0., 0., 0.],\n",
      "          ...,\n",
      "          [0., 0., 0.,  ..., 0., 0., 0.],\n",
      "          [0., 0., 0.,  ..., 0., 0., 0.],\n",
      "          [0., 0., 0.,  ..., 0., 0., 0.]]],\n",
      "\n",
      "\n",
      "        ...,\n",
      "\n",
      "\n",
      "        [[[0., 0., 0.,  ..., 0., 0., 0.],\n",
      "          [0., 0., 0.,  ..., 0., 0., 0.],\n",
      "          [0., 0., 0.,  ..., 0., 0., 0.],\n",
      "          ...,\n",
      "          [0., 0., 0.,  ..., 0., 0., 0.],\n",
      "          [0., 0., 0.,  ..., 0., 0., 0.],\n",
      "          [0., 0., 0.,  ..., 0., 0., 0.]]],\n",
      "\n",
      "\n",
      "        [[[0., 0., 0.,  ..., 0., 0., 0.],\n",
      "          [0., 0., 0.,  ..., 0., 0., 0.],\n",
      "          [0., 0., 0.,  ..., 0., 0., 0.],\n",
      "          ...,\n",
      "          [0., 0., 0.,  ..., 0., 0., 0.],\n",
      "          [0., 0., 0.,  ..., 0., 0., 0.],\n",
      "          [0., 0., 0.,  ..., 0., 0., 0.]]],\n",
      "\n",
      "\n",
      "        [[[0., 0., 0.,  ..., 0., 0., 0.],\n",
      "          [0., 0., 0.,  ..., 0., 0., 0.],\n",
      "          [0., 0., 0.,  ..., 0., 0., 0.],\n",
      "          ...,\n",
      "          [0., 0., 0.,  ..., 0., 0., 0.],\n",
      "          [0., 0., 0.,  ..., 0., 0., 0.],\n",
      "          [0., 0., 0.,  ..., 0., 0., 0.]]]]), tensor([5, 0, 4, 1, 9, 2, 1, 3, 1, 4, 3, 5, 3, 6, 1, 7, 2, 8, 6, 9, 4, 0, 9, 1,\n",
      "        1, 2, 4, 3, 2, 7, 3, 8, 6, 9, 0, 5, 6, 0, 7, 6, 1, 8, 7, 9, 3, 9, 8, 5,\n",
      "        9, 3, 3, 0, 7, 4, 9, 8, 0, 9, 4, 1, 4, 4, 6, 0, 4, 5, 6, 1, 0, 0, 1, 7,\n",
      "        1, 6, 3, 0, 2, 1, 1, 7, 9, 0, 2, 6, 7, 8, 3, 9, 0, 4, 6, 7, 4, 6, 8, 0,\n",
      "        7, 8, 3, 1])]\n"
     ]
    }
   ],
   "source": [
    "print('Data in train_loader consists of image data and labels : \\n', next(iter(train_loader)))"
   ]
  },
  {
   "cell_type": "code",
   "execution_count": 98,
   "metadata": {},
   "outputs": [
    {
     "name": "stdout",
     "output_type": "stream",
     "text": [
      "Epoch [10/300], Loss: 0.8437, Accuracy: 96.72 % / 96.24 %\n",
      "Epoch [20/300], Loss: 0.8188, Accuracy: 98.58 % / 96.93 %\n",
      "Epoch [30/300], Loss: 0.8103, Accuracy: 99.22 % / 97.55 %\n",
      "Epoch [40/300], Loss: 0.8066, Accuracy: 99.48 % / 97.59 %\n",
      "Epoch [50/300], Loss: 0.8042, Accuracy: 99.60 % / 97.88 %\n",
      "Epoch [60/300], Loss: 0.8039, Accuracy: 99.62 % / 97.69 %\n",
      "Epoch [70/300], Loss: 0.8029, Accuracy: 99.67 % / 97.81 %\n",
      "Epoch [80/300], Loss: 0.8026, Accuracy: 99.68 % / 97.82 %\n",
      "Epoch [90/300], Loss: 0.8037, Accuracy: 99.64 % / 97.74 %\n",
      "Epoch [100/300], Loss: 0.8024, Accuracy: 99.70 % / 97.96 %\n",
      "Epoch [110/300], Loss: 0.8022, Accuracy: 99.71 % / 97.95 %\n",
      "Epoch [120/300], Loss: 0.8020, Accuracy: 99.72 % / 97.96 %\n",
      "Epoch [130/300], Loss: 0.8020, Accuracy: 99.72 % / 97.89 %\n",
      "Epoch [140/300], Loss: 0.8020, Accuracy: 99.72 % / 97.91 %\n",
      "Epoch [150/300], Loss: 0.8020, Accuracy: 99.72 % / 97.91 %\n",
      "Epoch [160/300], Loss: 0.8019, Accuracy: 99.72 % / 97.90 %\n",
      "Epoch [170/300], Loss: 0.8020, Accuracy: 99.72 % / 97.85 %\n",
      "Epoch [180/300], Loss: 0.8019, Accuracy: 99.72 % / 97.89 %\n",
      "Epoch [190/300], Loss: 0.8019, Accuracy: 99.72 % / 97.89 %\n",
      "Epoch [200/300], Loss: 0.8018, Accuracy: 99.73 % / 97.90 %\n",
      "Epoch [210/300], Loss: 0.8017, Accuracy: 99.73 % / 97.85 %\n",
      "Epoch [220/300], Loss: 0.8017, Accuracy: 99.73 % / 97.91 %\n",
      "Epoch [230/300], Loss: 0.8016, Accuracy: 99.74 % / 97.86 %\n",
      "Epoch [240/300], Loss: 0.8015, Accuracy: 99.74 % / 97.86 %\n",
      "Epoch [250/300], Loss: 0.8017, Accuracy: 99.74 % / 97.83 %\n",
      "Epoch [260/300], Loss: 0.8015, Accuracy: 99.74 % / 97.91 %\n",
      "Epoch [270/300], Loss: 0.8015, Accuracy: 99.74 % / 97.92 %\n",
      "Epoch [280/300], Loss: 0.8018, Accuracy: 99.75 % / 97.88 %\n",
      "Epoch [290/300], Loss: 0.8014, Accuracy: 99.75 % / 97.93 %\n",
      "Epoch [300/300], Loss: 0.8014, Accuracy: 99.75 % / 97.91 %\n",
      "Epoch [300/300] completed, Loss: 0.8014, Accuracy: 99.75 % / 97.91 %\n"
     ]
    }
   ],
   "source": [
    "criterion = nn.CrossEntropyLoss()\n",
    "n_epochs = 300\n",
    "step_size = 0.1\n",
    "momentum = 0.7\n",
    "optimiser = optim.SGD(NN.parameters(), lr=step_size, momentum=momentum)\n",
    "\n",
    "losses = []\n",
    "train_acc = []\n",
    "train_acc.append(10)\n",
    "test_acc = []\n",
    "test_acc.append(10)\n",
    "\n",
    "for k in range(n_epochs):\n",
    "    epoch_loss = 0\n",
    "    accuracy = 0\n",
    "    \n",
    "    for j, (images, labels) in enumerate(train_loader):\n",
    "        # set the gradients to zero before starting to do backpropragation\n",
    "        # because PyTorch accumulates the gradients on subsequent backward passes\n",
    "        optimiser.zero_grad()\n",
    "        outputs = NN(images.view(-1, dimensions[0]))\n",
    "        loss = criterion(outputs, labels)\n",
    "        loss.backward()\n",
    "        optimiser.step() # updates the parameters\n",
    "        \n",
    "        epoch_loss += loss.item()\n",
    "        accuracy += acc(outputs, labels)\n",
    "    \n",
    "    losses.append(1 / len(train_loader) * epoch_loss)\n",
    "    train_acc.append(1 / len(train_loader) * accuracy)\n",
    "    \n",
    "    test_images, test_labels = iter(test_loader).next()\n",
    "    test_outputs = NN(test_images.view(-1, dimensions[0]))\n",
    "    test_accuracy = acc(test_outputs, test_labels)\n",
    "    test_acc.append(test_accuracy)\n",
    "    \n",
    "    if (k+1) % 10 == 0:\n",
    "        print('Epoch [%d/%d], Loss: %.4f, Accuracy: %.2f %% / %.2f %%' \n",
    "             %(k+1, n_epochs, losses[k], train_acc[k], test_accuracy))\n",
    "\n",
    "print('Epoch [%d/%d] completed, Loss: %.4f, Accuracy: %.2f %% / %.2f %%' \n",
    "             %(k+1, n_epochs, losses[k], train_acc[k], test_accuracy))"
   ]
  },
  {
   "cell_type": "markdown",
   "metadata": {},
   "source": [
    "We then store the trained model parameters in the file **trained_NN** for later re-use."
   ]
  },
  {
   "cell_type": "code",
   "execution_count": 104,
   "metadata": {},
   "outputs": [],
   "source": [
    "torch.save(NN.state_dict(), 'trained_NN')"
   ]
  },
  {
   "cell_type": "markdown",
   "metadata": {},
   "source": [
    "The following plots visualise the loss of the cross entropy over the course of all epochs and classification accuracy on the training as well as the test dataset."
   ]
  },
  {
   "cell_type": "code",
   "execution_count": 109,
   "metadata": {},
   "outputs": [
    {
     "data": {
      "image/png": "[encoded data removed]",
      "text/plain": [
       "<Figure size 432x288 with 2 Axes>"
      ]
     },
     "metadata": {
      "needs_background": "light"
     },
     "output_type": "display_data"
    }
   ],
   "source": [
    "fig, ax = plt.subplots(1, 2)\n",
    "ax[0].plot(np.arange(n_epochs), losses)\n",
    "ax[0].set_xlabel('No. of epoch')\n",
    "ax[0].set_ylabel('CrossEntropy')\n",
    "\n",
    "ax[1].plot(np.arange(n_epochs + 1), train_acc, label='training accuracy')\n",
    "ax[1].plot(np.arange(n_epochs + 1), test_acc, label='testing accuracy')\n",
    "ax[1].set_xlabel('No. of epoch')\n",
    "ax[1].set_ylabel('Accuracy')\n",
    "ax[1].legend()\n",
    "\n",
    "plt.tight_layout()\n",
    "plt.show()"
   ]
  },
  {
   "cell_type": "markdown",
   "metadata": {},
   "source": [
    "In case we have pre-trained the network and stored its parameters in 'trained_NN' we can load the network with the following command."
   ]
  },
  {
   "cell_type": "code",
   "execution_count": 110,
   "metadata": {},
   "outputs": [
    {
     "data": {
      "text/plain": [
       "<All keys matched successfully>"
      ]
     },
     "execution_count": 110,
     "metadata": {},
     "output_type": "execute_result"
    }
   ],
   "source": [
    "NN.load_state_dict(torch.load('trained_NN'))"
   ]
  },
  {
   "cell_type": "markdown",
   "metadata": {},
   "source": [
    "We visually test our trained network on an arbitrary sample of the testing dataset."
   ]
  },
  {
   "cell_type": "code",
   "execution_count": 113,
   "metadata": {},
   "outputs": [
    {
     "name": "stderr",
     "output_type": "stream",
     "text": [
      "C:\\Users\\user\\Anaconda3\\lib\\site-packages\\ipykernel_launcher.py:16: UserWarning: Matplotlib is currently using module://ipykernel.pylab.backend_inline, which is a non-GUI backend, so cannot show the figure.\n",
      "  app.launch_new_instance()\n"
     ]
    },
    {
     "data": {
      "image/png": "[encoded data removed]",
      "text/plain": [
       "<Figure size 720x720 with 3 Axes>"
      ]
     },
     "metadata": {
      "needs_background": "light"
     },
     "output_type": "display_data"
    }
   ],
   "source": [
    "test_images, test_labels = iter(test_loader).next()\n",
    "index = 626\n",
    "fig = plt.figure(figsize=(10, 10))\n",
    "plot1 = fig.add_subplot(121)\n",
    "plot2 = fig.add_subplot(122)\n",
    "\n",
    "image = plot1.imshow(test_images[index][0].numpy())\n",
    "plot1.set_title('Network input')\n",
    "fig.colorbar(image, ax=plot1, fraction=0.05)\n",
    "\n",
    "plot2.plot(nn.functional.softmax(NN(test_images[index][0].view(28*28)), dim=0).detach().numpy())\n",
    "plot2.set_xlabel('Class')\n",
    "plot2.set_title('Classification result')\n",
    "\n",
    "fig.tight_layout()\n",
    "fig.show()"
   ]
  }
 ],
 "metadata": {
  "kernelspec": {
   "display_name": "Python 3",
   "language": "python",
   "name": "python3"
  },
  "language_info": {
   "codemirror_mode": {
    "name": "ipython",
    "version": 3
   },
   "file_extension": ".py",
   "mimetype": "text/x-python",
   "name": "python",
   "nbconvert_exporter": "python",
   "pygments_lexer": "ipython3",
   "version": "3.7.4"
  },
  "toc": {
   "base_numbering": 1,
   "nav_menu": {},
   "number_sections": true,
   "sideBar": true,
   "skip_h1_title": false,
   "title_cell": "Table of Contents",
   "title_sidebar": "Contents",
   "toc_cell": false,
   "toc_position": {},
   "toc_section_display": true,
   "toc_window_display": false
  }
 },
 "nbformat": 4,
 "nbformat_minor": 2
}
